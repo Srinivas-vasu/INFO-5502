{
  "cells": [
    {
      "cell_type": "markdown",
      "metadata": {
        "id": "oqM7vpHiS6bL"
      },
      "source": [
        "# Lab 4: Simulations\n",
        "\n",
        "Welcome to Lab 4! \n",
        "\n",
        "We will go over [iteration](https://www.inferentialthinking.com/chapters/09/2/Iteration.html) and [simulations](https://www.inferentialthinking.com/chapters/09/3/Simulation.html), as well as the concept of [randomness](https://www.inferentialthinking.com/chapters/09/Randomness.html).\n",
        "\n",
        "First, set up the tests and imports by running the cell below."
      ]
    },
    {
      "cell_type": "code",
      "execution_count": 1,
      "metadata": {
        "id": "JDMqn7HwS6bN"
      },
      "outputs": [],
      "source": [
        "# Run this cell, but please don't change it.\n",
        "\n",
        "# These lines import the Numpy and Datascience modules.\n",
        "import numpy as np\n",
        "from datascience import *\n",
        "\n",
        "# These lines do some fancy plotting magic\n",
        "import matplotlib\n",
        "%matplotlib inline\n",
        "import matplotlib.pyplot as plt\n",
        "plt.style.use('fivethirtyeight')"
      ]
    },
    {
      "cell_type": "markdown",
      "metadata": {
        "id": "2yVtskTIS6bN"
      },
      "source": [
        "## 1. Nachos and Conditionals"
      ]
    },
    {
      "cell_type": "markdown",
      "metadata": {
        "id": "Nu-1mPCqS6bO"
      },
      "source": [
        "In Python, the boolean data type contains only two unique values:  `True` and `False`. Expressions containing comparison operators such as `<` (less than), `>` (greater than), and `==` (equal to) evaluate to Boolean values. A list of common comparison operators can be found below!\n",
        "\n",
        "<img src=\"comparisons.png\">"
      ]
    },
    {
      "cell_type": "markdown",
      "metadata": {
        "id": "kB84t4XQS6bO"
      },
      "source": [
        "Run the cell below to see an example of a comparison operator in action."
      ]
    },
    {
      "cell_type": "code",
      "execution_count": 2,
      "metadata": {
        "colab": {
          "base_uri": "https://localhost:8080/"
        },
        "id": "ifTXTam-S6bO",
        "outputId": "d83ab6a2-64d4-49c6-e962-2fa3162dae16"
      },
      "outputs": [
        {
          "output_type": "execute_result",
          "data": {
            "text/plain": [
              "True"
            ]
          },
          "metadata": {},
          "execution_count": 2
        }
      ],
      "source": [
        "3 > 1 + 1"
      ]
    },
    {
      "cell_type": "markdown",
      "metadata": {
        "id": "VZIej9ukS6bO"
      },
      "source": [
        "We can even assign the result of a comparison operation to a variable."
      ]
    },
    {
      "cell_type": "code",
      "execution_count": 3,
      "metadata": {
        "colab": {
          "base_uri": "https://localhost:8080/"
        },
        "id": "2nIzA-f-S6bO",
        "outputId": "0c39e71a-ad8c-4a9e-f1b4-d0bd780c2b1c"
      },
      "outputs": [
        {
          "output_type": "execute_result",
          "data": {
            "text/plain": [
              "True"
            ]
          },
          "metadata": {},
          "execution_count": 3
        }
      ],
      "source": [
        "result = 10 / 2 == 5\n",
        "result"
      ]
    },
    {
      "cell_type": "markdown",
      "metadata": {
        "id": "lYRkilnAS6bO"
      },
      "source": [
        "Arrays are compatible with comparison operators. The output is an array of boolean values."
      ]
    },
    {
      "cell_type": "code",
      "execution_count": 4,
      "metadata": {
        "colab": {
          "base_uri": "https://localhost:8080/"
        },
        "id": "7XfMh3t-S6bP",
        "outputId": "a778f7bd-08c6-4827-e05d-2d68a1038c51"
      },
      "outputs": [
        {
          "output_type": "execute_result",
          "data": {
            "text/plain": [
              "array([False,  True,  True,  True, False, False], dtype=bool)"
            ]
          },
          "metadata": {},
          "execution_count": 4
        }
      ],
      "source": [
        "make_array(1, 5, 7, 8, 3, -1) > 3"
      ]
    },
    {
      "cell_type": "markdown",
      "metadata": {
        "id": "YjgTw-I4S6bP"
      },
      "source": [
        "One day, when you come home after a long week, you see a hot bowl of nachos waiting on the dining table! Let's say that whenever you take a nacho from the bowl, it will either have only **cheese**, only **salsa**, **both** cheese and salsa, or **neither** cheese nor salsa (a sad tortilla chip indeed). \n",
        "\n",
        "Let's try and simulate taking nachos from the bowl at random using the function, `np.random.choice(...)`."
      ]
    },
    {
      "cell_type": "markdown",
      "metadata": {
        "id": "0LXWcZXES6bP"
      },
      "source": [
        "### `np.random.choice`\n",
        "\n",
        "`np.random.choice` picks one item at random from the given array. It is equally likely to pick any of the items. Run the cell below several times, and observe how the results change."
      ]
    },
    {
      "cell_type": "code",
      "execution_count": 5,
      "metadata": {
        "colab": {
          "base_uri": "https://localhost:8080/",
          "height": 35
        },
        "id": "aemJipHHS6bP",
        "outputId": "74562c9a-936c-444b-b00d-863e41e35b96"
      },
      "outputs": [
        {
          "output_type": "execute_result",
          "data": {
            "text/plain": [
              "'both'"
            ],
            "application/vnd.google.colaboratory.intrinsic+json": {
              "type": "string"
            }
          },
          "metadata": {},
          "execution_count": 5
        }
      ],
      "source": [
        "nachos = make_array('cheese', 'salsa', 'both', 'neither')\n",
        "np.random.choice(nachos)"
      ]
    },
    {
      "cell_type": "markdown",
      "metadata": {
        "id": "IMRAUwWiS6bQ"
      },
      "source": [
        "To repeat this process multiple times, pass in an int `n` as the second argument to return `n` different random choices. By default, `np.random.choice` samples **with replacement** and returns an *array* of items. \n",
        "\n",
        "Run the next cell to see an example of sampling with replacement 10 times from the `nachos` array."
      ]
    },
    {
      "cell_type": "code",
      "execution_count": 6,
      "metadata": {
        "colab": {
          "base_uri": "https://localhost:8080/"
        },
        "id": "QDK9ZiVIS6bQ",
        "outputId": "6015650e-d33b-4c4f-ed80-108ec6b56fb1"
      },
      "outputs": [
        {
          "output_type": "execute_result",
          "data": {
            "text/plain": [
              "array(['both', 'cheese', 'cheese', 'neither', 'salsa', 'cheese', 'neither',\n",
              "       'both', 'both', 'salsa'],\n",
              "      dtype='<U7')"
            ]
          },
          "metadata": {},
          "execution_count": 6
        }
      ],
      "source": [
        "np.random.choice(nachos, 10)"
      ]
    },
    {
      "cell_type": "markdown",
      "metadata": {
        "id": "pU6nE2gHS6bQ"
      },
      "source": [
        "To count the number of times a certain type of nacho is randomly chosen, we can use `np.count_nonzero`"
      ]
    },
    {
      "cell_type": "markdown",
      "metadata": {
        "id": "PW5sA_Y0S6bQ"
      },
      "source": [
        "### `np.count_nonzero`\n",
        "\n",
        "`np.count_nonzero` counts the number of non-zero values that appear in an array. When an array of boolean values are passed through the function, it will count the number of `True` values (remember that in Python, `True` is coded as 1 and `False` is coded as 0.)\n",
        "\n",
        "Run the next cell to see an example that uses `np.count_nonzero`."
      ]
    },
    {
      "cell_type": "code",
      "execution_count": 7,
      "metadata": {
        "colab": {
          "base_uri": "https://localhost:8080/"
        },
        "id": "jEsaB4IOS6bQ",
        "outputId": "09d23bca-a978-427b-c3dd-16172b57d901"
      },
      "outputs": [
        {
          "output_type": "execute_result",
          "data": {
            "text/plain": [
              "3"
            ]
          },
          "metadata": {},
          "execution_count": 7
        }
      ],
      "source": [
        "np.count_nonzero(make_array(True, False, False, True, True))"
      ]
    },
    {
      "cell_type": "markdown",
      "metadata": {
        "id": "RU56cZs1S6bQ"
      },
      "source": [
        "<span style='background:yellow'>**Question 1.1.**</span> Assume we took ten nachos at random, and stored the results in an array called `ten_nachos` as done below. Find the number of nachos with only cheese using code (do not hardcode the answer).  \n",
        "\n",
        "*Hint:* Our solution involves a comparison operator (e.g. `=`, `<`, ...) and the `np.count_nonzero` method."
      ]
    },
    {
      "cell_type": "code",
      "execution_count": 8,
      "metadata": {
        "colab": {
          "base_uri": "https://localhost:8080/"
        },
        "id": "yVsl8KTrS6bQ",
        "outputId": "66fb651e-48f5-4f4e-a231-eb39994c0074"
      },
      "outputs": [
        {
          "output_type": "execute_result",
          "data": {
            "text/plain": [
              "3"
            ]
          },
          "metadata": {},
          "execution_count": 8
        }
      ],
      "source": [
        "ten_nachos = make_array('neither', 'cheese', 'both', 'both', 'cheese', 'salsa', 'both', 'neither', 'cheese', 'both')\n",
        "number_cheese = np.count_nonzero(ten_nachos=='cheese')\n",
        "number_cheese"
      ]
    },
    {
      "cell_type": "code",
      "execution_count": 9,
      "metadata": {
        "colab": {
          "base_uri": "https://localhost:8080/"
        },
        "id": "IN5k62G8S6bR",
        "outputId": "a803ce3a-0ee3-4e01-8d20-271db3decea2"
      },
      "outputs": [
        {
          "output_type": "execute_result",
          "data": {
            "text/plain": [
              "True"
            ]
          },
          "metadata": {},
          "execution_count": 9
        }
      ],
      "source": [
        "# TEST\n",
        "number_cheese == 3"
      ]
    },
    {
      "cell_type": "markdown",
      "metadata": {
        "id": "q1sYcJbrS6bR"
      },
      "source": [
        "**Conditional Statements**\n",
        "\n",
        "A conditional statement is a multi-line statement that allows Python to choose among different alternatives based on the truth value of an expression.\n",
        "\n",
        "Here is a basic example.\n",
        "\n",
        "```\n",
        "def sign(x):\n",
        "    if x > 0:\n",
        "        return 'Positive'\n",
        "    else:\n",
        "        return 'Negative'\n",
        "```\n",
        "\n",
        "If the input `x` is greater than `0`, we return the string `'Positive'`. Otherwise, we return `'Negative'`.\n",
        "\n",
        "If we want to test multiple conditions at once, we use the following general format.\n",
        "\n",
        "```\n",
        "if <if expression>:\n",
        "    <if body>\n",
        "elif <elif expression 0>:\n",
        "    <elif body 0>\n",
        "elif <elif expression 1>:\n",
        "    <elif body 1>\n",
        "...\n",
        "else:\n",
        "    <else body>\n",
        "```\n",
        "\n",
        "Only the body for the first conditional expression that is true will be evaluated. Each `if` and `elif` expression is evaluated and considered in order, starting at the top. As soon as a true value is found, the corresponding body is executed, and the rest of the conditional statement is skipped. If none of the `if` or `elif` expressions are true, then the `else body` is executed. \n",
        "\n",
        "For more examples and explanation, refer to the section on conditional statements [here](https://www.inferentialthinking.com/chapters/09/1/conditional-statements.html)."
      ]
    },
    {
      "cell_type": "markdown",
      "metadata": {
        "id": "xSO8XyGWS6bR"
      },
      "source": [
        "<span style='background:yellow'>**Question 1.2.**</span> Complete the following conditional statement so that the string `'More please'` is assigned to the variable `say_please` if the number of nachos with cheese in `ten_nachos` is less than `5`.\n",
        "\n",
        "*Hint*: You should be using `number_cheese` from Question 1."
      ]
    },
    {
      "cell_type": "code",
      "execution_count": 10,
      "metadata": {
        "for_assignment_type": "student",
        "colab": {
          "base_uri": "https://localhost:8080/",
          "height": 35
        },
        "id": "lJNiQ42AS6bR",
        "outputId": "1c3ada06-6ec6-41fa-83a8-578f13540003"
      },
      "outputs": [
        {
          "output_type": "execute_result",
          "data": {
            "text/plain": [
              "'More please'"
            ],
            "application/vnd.google.colaboratory.intrinsic+json": {
              "type": "string"
            }
          },
          "metadata": {},
          "execution_count": 10
        }
      ],
      "source": [
        "say_please = '?'\n",
        "\n",
        "if number_cheese<5:\n",
        "    say_please = 'More please'\n",
        "say_please"
      ]
    },
    {
      "cell_type": "code",
      "execution_count": 11,
      "metadata": {
        "colab": {
          "base_uri": "https://localhost:8080/"
        },
        "id": "YPUQZGm6S6bR",
        "outputId": "b677d838-fb50-40a4-d06e-363beaaa5579"
      },
      "outputs": [
        {
          "output_type": "execute_result",
          "data": {
            "text/plain": [
              "True"
            ]
          },
          "metadata": {},
          "execution_count": 11
        }
      ],
      "source": [
        "# TEST\n",
        "say_please == 'More please'"
      ]
    },
    {
      "cell_type": "markdown",
      "metadata": {
        "id": "s2jIOx3YS6bS"
      },
      "source": [
        "<span style='background:yellow'>**Question 1.3.**</span> Write a function called `nacho_reaction` that returns a reaction (as a string) based on the type of nacho passed in as an argument. Use the table below to match the nacho type to the appropriate reaction.\n",
        "\n",
        "<img src=\"nacho_reactions.png\">\n",
        "\n",
        "*Hint:* If you're failing the test, double check the spelling of your reactions."
      ]
    },
    {
      "cell_type": "code",
      "execution_count": 12,
      "metadata": {
        "for_assignment_type": "student",
        "colab": {
          "base_uri": "https://localhost:8080/",
          "height": 35
        },
        "id": "Im5wYovVS6bS",
        "outputId": "8437af69-7dc6-407f-a4e0-448cf5b9e649"
      },
      "outputs": [
        {
          "output_type": "execute_result",
          "data": {
            "text/plain": [
              "'Spicy!'"
            ],
            "application/vnd.google.colaboratory.intrinsic+json": {
              "type": "string"
            }
          },
          "metadata": {},
          "execution_count": 12
        }
      ],
      "source": [
        "def nacho_reaction(nacho):\n",
        "    if nacho == \"cheese\":\n",
        "        return 'Cheesy!'\n",
        "    elif nacho=='salsa' :\n",
        "      return 'Spicy!'\n",
        "    elif nacho=='both':\n",
        "      return 'Wow!'\n",
        "    else :\n",
        "      return 'Meh.'\n",
        "\n",
        "spicy_nacho = nacho_reaction('salsa')\n",
        "spicy_nacho"
      ]
    },
    {
      "cell_type": "code",
      "execution_count": 13,
      "metadata": {
        "id": "gXpTBn_uS6bS",
        "colab": {
          "base_uri": "https://localhost:8080/"
        },
        "outputId": "6fb78447-92f7-4b22-f20a-de095e75099f"
      },
      "outputs": [
        {
          "output_type": "execute_result",
          "data": {
            "text/plain": [
              "True"
            ]
          },
          "metadata": {},
          "execution_count": 13
        }
      ],
      "source": [
        "# TEST\n",
        "nacho_reaction('salsa') == 'Spicy!'"
      ]
    },
    {
      "cell_type": "code",
      "execution_count": 14,
      "metadata": {
        "id": "3KKVzbUlS6bS",
        "colab": {
          "base_uri": "https://localhost:8080/"
        },
        "outputId": "c9b8ea74-ab94-4afe-a199-d4a1b66e28e2"
      },
      "outputs": [
        {
          "output_type": "execute_result",
          "data": {
            "text/plain": [
              "True"
            ]
          },
          "metadata": {},
          "execution_count": 14
        }
      ],
      "source": [
        "# TEST\n",
        "nacho_reaction('cheese') == 'Cheesy!'"
      ]
    },
    {
      "cell_type": "code",
      "execution_count": 15,
      "metadata": {
        "id": "j70nTusDS6bS",
        "colab": {
          "base_uri": "https://localhost:8080/"
        },
        "outputId": "395e31a3-607c-47bd-802d-ca7e50dd7173"
      },
      "outputs": [
        {
          "output_type": "execute_result",
          "data": {
            "text/plain": [
              "True"
            ]
          },
          "metadata": {},
          "execution_count": 15
        }
      ],
      "source": [
        "# TEST\n",
        "nacho_reaction('both') == 'Wow!'"
      ]
    },
    {
      "cell_type": "code",
      "execution_count": 16,
      "metadata": {
        "id": "IcROUCIfS6bS",
        "colab": {
          "base_uri": "https://localhost:8080/"
        },
        "outputId": "a18adfef-b0c3-4067-a281-191ee74a920f"
      },
      "outputs": [
        {
          "output_type": "execute_result",
          "data": {
            "text/plain": [
              "True"
            ]
          },
          "metadata": {},
          "execution_count": 16
        }
      ],
      "source": [
        "# TEST\n",
        "nacho_reaction('neither') == 'Meh.'"
      ]
    },
    {
      "cell_type": "markdown",
      "metadata": {
        "id": "ECjw7mIpS6bS"
      },
      "source": [
        "<span style='background:yellow'>**Question 1.4.**</span> Create a table `ten_nachos_reactions` that consists of the nachos in `ten_nachos` as well as the reactions for each of those nachos. The columns should be called `Nachos` and `Reactions`.\n",
        "\n",
        "*Hint:* Use the `apply` method. "
      ]
    },
    {
      "cell_type": "code",
      "execution_count": 21,
      "metadata": {
        "for_assignment_type": "student",
        "id": "dORdiO9ZS6bS",
        "colab": {
          "base_uri": "https://localhost:8080/",
          "height": 363
        },
        "outputId": "4208ce56-413c-4f57-a81b-a1e62aab3bb6"
      },
      "outputs": [
        {
          "output_type": "execute_result",
          "data": {
            "text/plain": [
              "Nachos  | Reactions\n",
              "neither | Meh.\n",
              "cheese  | Cheesy!\n",
              "both    | Wow!\n",
              "both    | Wow!\n",
              "cheese  | Cheesy!\n",
              "salsa   | Spicy!\n",
              "both    | Wow!\n",
              "neither | Meh.\n",
              "cheese  | Cheesy!\n",
              "both    | Wow!"
            ],
            "text/html": [
              "<table border=\"1\" class=\"dataframe\">\n",
              "    <thead>\n",
              "        <tr>\n",
              "            <th>Nachos</th> <th>Reactions</th>\n",
              "        </tr>\n",
              "    </thead>\n",
              "    <tbody>\n",
              "        <tr>\n",
              "            <td>neither</td> <td>Meh.     </td>\n",
              "        </tr>\n",
              "        <tr>\n",
              "            <td>cheese </td> <td>Cheesy!  </td>\n",
              "        </tr>\n",
              "        <tr>\n",
              "            <td>both   </td> <td>Wow!     </td>\n",
              "        </tr>\n",
              "        <tr>\n",
              "            <td>both   </td> <td>Wow!     </td>\n",
              "        </tr>\n",
              "        <tr>\n",
              "            <td>cheese </td> <td>Cheesy!  </td>\n",
              "        </tr>\n",
              "        <tr>\n",
              "            <td>salsa  </td> <td>Spicy!   </td>\n",
              "        </tr>\n",
              "        <tr>\n",
              "            <td>both   </td> <td>Wow!     </td>\n",
              "        </tr>\n",
              "        <tr>\n",
              "            <td>neither</td> <td>Meh.     </td>\n",
              "        </tr>\n",
              "        <tr>\n",
              "            <td>cheese </td> <td>Cheesy!  </td>\n",
              "        </tr>\n",
              "        <tr>\n",
              "            <td>both   </td> <td>Wow!     </td>\n",
              "        </tr>\n",
              "    </tbody>\n",
              "</table>"
            ]
          },
          "metadata": {},
          "execution_count": 21
        }
      ],
      "source": [
        "ten_nachos_reactions = Table().with_column('Nachos', ten_nachos)\n",
        "ten_nachos_reactions=ten_nachos_reactions.with_column('Reactions',ten_nachos_reactions.apply(nacho_reaction,'Nachos'))\n",
        "ten_nachos_reactions"
      ]
    },
    {
      "cell_type": "code",
      "execution_count": 22,
      "metadata": {
        "id": "SlaU3fMrS6bS",
        "colab": {
          "base_uri": "https://localhost:8080/"
        },
        "outputId": "0c37b9cf-552d-4858-8a28-c6ad4f23f626"
      },
      "outputs": [
        {
          "output_type": "execute_result",
          "data": {
            "text/plain": [
              "True"
            ]
          },
          "metadata": {},
          "execution_count": 22
        }
      ],
      "source": [
        "# TEST\n",
        "# One or more of the reaction results could be incorrect;\n",
        "np.count_nonzero(ten_nachos_reactions.column('Reactions') == make_array('Meh.', 'Cheesy!', 'Wow!', 'Wow!', 'Cheesy!', 'Spicy!', 'Wow!', 'Meh.', 'Cheesy!', 'Wow!')) == 10"
      ]
    },
    {
      "cell_type": "markdown",
      "metadata": {
        "id": "LI0W-wDOS6bT"
      },
      "source": [
        "<span style='background:yellow'>**Question 1.5.**</span> Using code, find the number of 'Wow!' reactions for the nachos in `ten_nachos_reactions`."
      ]
    },
    {
      "cell_type": "code",
      "execution_count": 23,
      "metadata": {
        "id": "rOsH9lQkS6bT",
        "colab": {
          "base_uri": "https://localhost:8080/"
        },
        "outputId": "9a42ab79-9473-4b40-b44b-205ec610a202"
      },
      "outputs": [
        {
          "output_type": "execute_result",
          "data": {
            "text/plain": [
              "4"
            ]
          },
          "metadata": {},
          "execution_count": 23
        }
      ],
      "source": [
        "number_wow_reactions = np.count_nonzero(ten_nachos_reactions['Reactions']=='Wow!')\n",
        "number_wow_reactions"
      ]
    },
    {
      "cell_type": "code",
      "execution_count": 24,
      "metadata": {
        "id": "obBhGV4_S6bT",
        "colab": {
          "base_uri": "https://localhost:8080/"
        },
        "outputId": "37458a78-bb75-4dac-e3cc-dcc7822c0ba0"
      },
      "outputs": [
        {
          "output_type": "execute_result",
          "data": {
            "text/plain": [
              "True"
            ]
          },
          "metadata": {},
          "execution_count": 24
        }
      ],
      "source": [
        "# TEST\n",
        "2 < number_wow_reactions < 6"
      ]
    },
    {
      "cell_type": "code",
      "execution_count": 25,
      "metadata": {
        "id": "o7o1SA03S6bT",
        "colab": {
          "base_uri": "https://localhost:8080/"
        },
        "outputId": "a5b97a47-0832-4dac-a9d6-8d58853c7d88"
      },
      "outputs": [
        {
          "output_type": "execute_result",
          "data": {
            "text/plain": [
              "True"
            ]
          },
          "metadata": {},
          "execution_count": 25
        }
      ],
      "source": [
        "# TEST \n",
        "# Incorrect value for number_wow_reactions\n",
        "number_wow_reactions == 4"
      ]
    },
    {
      "cell_type": "markdown",
      "metadata": {
        "id": "7DA0_upNS6bT"
      },
      "source": [
        "## 2. Simulations and For Loops\n",
        "Using a `for` statement, we can perform a task multiple times. This is known as iteration."
      ]
    },
    {
      "cell_type": "markdown",
      "metadata": {
        "id": "Uc-kb-5WS6bT"
      },
      "source": [
        "One use of iteration is to loop through a set of values. For instance, we can print out all of the colors of the rainbow."
      ]
    },
    {
      "cell_type": "code",
      "execution_count": 26,
      "metadata": {
        "id": "W7byeNOrS6bT",
        "colab": {
          "base_uri": "https://localhost:8080/"
        },
        "outputId": "37ed5b89-e4e3-47cb-f91f-725d64ae4669"
      },
      "outputs": [
        {
          "output_type": "stream",
          "name": "stdout",
          "text": [
            "red\n",
            "orange\n",
            "yellow\n",
            "green\n",
            "blue\n",
            "indigo\n",
            "violet\n"
          ]
        }
      ],
      "source": [
        "rainbow = make_array(\"red\", \"orange\", \"yellow\", \"green\", \"blue\", \"indigo\", \"violet\")\n",
        "\n",
        "for color in rainbow:\n",
        "    print(color)"
      ]
    },
    {
      "cell_type": "markdown",
      "metadata": {
        "id": "fxQtTA2BS6bT"
      },
      "source": [
        "We can see that the indented part of the `for` loop, known as the body, is executed once for each item in `rainbow`. The name `color` is assigned to the next value in `rainbow` at the start of each iteration. Note that the name `color` is arbitrary; we could easily have named it something else. The important thing is we stay consistent throughout the `for` loop. "
      ]
    },
    {
      "cell_type": "code",
      "execution_count": 27,
      "metadata": {
        "id": "BJr_LGR-S6bT",
        "colab": {
          "base_uri": "https://localhost:8080/"
        },
        "outputId": "26d7d324-4512-4800-9c62-289635acb0e1"
      },
      "outputs": [
        {
          "output_type": "stream",
          "name": "stdout",
          "text": [
            "red\n",
            "orange\n",
            "yellow\n",
            "green\n",
            "blue\n",
            "indigo\n",
            "violet\n"
          ]
        }
      ],
      "source": [
        "for another_name in rainbow:\n",
        "    print(another_name)"
      ]
    },
    {
      "cell_type": "markdown",
      "metadata": {
        "id": "e_vv4cRwS6bT"
      },
      "source": [
        "In general, however, we would like the variable name to be somewhat informative. "
      ]
    },
    {
      "cell_type": "markdown",
      "metadata": {
        "id": "i6993JBxS6bT"
      },
      "source": [
        "<span style='background:yellow'>**Question 2.1.**</span> In the following cell, we've loaded the text of _Pride and Prejudice_ by Jane Austen, split it into individual words, and stored these words in an array `p_and_p_words`. Using a `for` loop, assign `longer_than_five` to the number of words in the novel that are more than 5 letters long.\n",
        "\n",
        "*Hint*: You can find the number of letters in a word with the `len` function."
      ]
    },
    {
      "cell_type": "code",
      "execution_count": 28,
      "metadata": {
        "for_assignment_type": "student",
        "id": "r3cN22JMS6bT",
        "colab": {
          "base_uri": "https://localhost:8080/"
        },
        "outputId": "9b04d557-183a-4d3a-bf51-7b721e088aab"
      },
      "outputs": [
        {
          "output_type": "execute_result",
          "data": {
            "text/plain": [
              "35453"
            ]
          },
          "metadata": {},
          "execution_count": 28
        }
      ],
      "source": [
        "austen_string = open('Austen_PrideAndPrejudice.txt', encoding='utf-8').read()\n",
        "p_and_p_words = np.array(austen_string.split())\n",
        "t=0\n",
        "for i in (p_and_p_words):\n",
        "  if(len(i)>5):\n",
        "    t+=1\n",
        "longer_than_five = t\n",
        "\n",
        "# a for loop would be useful here\n",
        "\n",
        "longer_than_five"
      ]
    },
    {
      "cell_type": "code",
      "execution_count": 29,
      "metadata": {
        "id": "Ro13pQ0oS6bU",
        "colab": {
          "base_uri": "https://localhost:8080/"
        },
        "outputId": "f2b09b0e-8b16-4e12-b8b7-b6791e9921a4"
      },
      "outputs": [
        {
          "output_type": "execute_result",
          "data": {
            "text/plain": [
              "True"
            ]
          },
          "metadata": {},
          "execution_count": 29
        }
      ],
      "source": [
        "# TEST\n",
        "longer_than_five == 35453"
      ]
    },
    {
      "cell_type": "markdown",
      "metadata": {
        "id": "C3iKuP7XS6bU"
      },
      "source": [
        "<span style='background:yellow'>**Question 2.2.**</span> Using a simulation with 10,000 trials, assign num_different to the number of times, in 10,000 trials, that two words picked uniformly at random (with replacement) from Pride and Prejudice have different lengths. \n",
        "\n",
        "*Hint 1*: What function did we use in section 1 to sample at random with replacement from an array? \n",
        "\n",
        "*Hint 2*: Remember that `!=` checks for non-equality between two items."
      ]
    },
    {
      "cell_type": "code",
      "execution_count": 30,
      "metadata": {
        "for_assignment_type": "student",
        "id": "as0NtBEDS6bU",
        "colab": {
          "base_uri": "https://localhost:8080/"
        },
        "outputId": "0857fa6e-2ced-49b3-b510-905f3e1fe8a7"
      },
      "outputs": [
        {
          "output_type": "execute_result",
          "data": {
            "text/plain": [
              "8594"
            ]
          },
          "metadata": {},
          "execution_count": 30
        }
      ],
      "source": [
        "trials = 10000\n",
        "num_different=0\n",
        "for i in np.arange(trials):\n",
        "    words = np.random.choice(p_and_p_words,2)\n",
        "    if(len(words.item(0)) != len(words.item(1)) != len(words.item(0))):\n",
        "        num_different = num_different + 1\n",
        "num_different"
      ]
    },
    {
      "cell_type": "code",
      "execution_count": 31,
      "metadata": {
        "id": "4DryiMuhS6bU",
        "colab": {
          "base_uri": "https://localhost:8080/"
        },
        "outputId": "7d814a28-369a-4446-92d4-48b3ae3f6e61"
      },
      "outputs": [
        {
          "output_type": "execute_result",
          "data": {
            "text/plain": [
              "True"
            ]
          },
          "metadata": {},
          "execution_count": 31
        }
      ],
      "source": [
        "# TEST\n",
        "8100 <= num_different <= 9100"
      ]
    },
    {
      "cell_type": "markdown",
      "metadata": {
        "id": "-4QfB8LfS6bU"
      },
      "source": [
        "We can also use `np.random.choice` to simulate multiple trials.\n",
        "\n",
        "<span style='background:yellow'>**Question 2.3.**</span> Allie is playing darts. Her dartboard contains ten equal-sized zones with point values from 1 to 10. Write code that simulates her total score after 1000 dart tosses.\n",
        "\n",
        "*Hint:* First decide the possible values you can take in the experiment (point values in this case). Then use `np.random.choice` to simulate Allie's tosses. Finally, sum up the scores to get Allie's total score."
      ]
    },
    {
      "cell_type": "code",
      "execution_count": 32,
      "metadata": {
        "for_assignment_type": "student",
        "id": "5YEtFJf3S6bU",
        "colab": {
          "base_uri": "https://localhost:8080/"
        },
        "outputId": "09b7a771-0e5a-4514-b41f-c2cd0df8c754"
      },
      "outputs": [
        {
          "output_type": "execute_result",
          "data": {
            "text/plain": [
              "5377"
            ]
          },
          "metadata": {},
          "execution_count": 32
        }
      ],
      "source": [
        "possible_point_values =[1,2,3,4,5,6,7,8,9,10]\n",
        "num_tosses = 1000\n",
        "t=0\n",
        "for i in range(1000):\n",
        "  simulated_tosses = np.random.choice(possible_point_values)\n",
        "  t=t+simulated_tosses\n",
        "total_score = t\n",
        "total_score"
      ]
    },
    {
      "cell_type": "code",
      "execution_count": 33,
      "metadata": {
        "id": "ozCnWZVkS6bU",
        "colab": {
          "base_uri": "https://localhost:8080/"
        },
        "outputId": "75dd3ec7-41c3-410c-9b8f-9268607decf5"
      },
      "outputs": [
        {
          "output_type": "execute_result",
          "data": {
            "text/plain": [
              "True"
            ]
          },
          "metadata": {},
          "execution_count": 33
        }
      ],
      "source": [
        "# TEST\n",
        "1000 <= total_score <= 10000"
      ]
    },
    {
      "cell_type": "markdown",
      "metadata": {
        "id": "WoRRt2RVS6bU"
      },
      "source": [
        "## 3. Probability"
      ]
    },
    {
      "cell_type": "markdown",
      "metadata": {
        "id": "O0XrDPutS6bU"
      },
      "source": [
        "We will be testing some probability concepts that were introduced in lecture. For all of the following problems, we will introduce a problem statement and give you a proposed answer. You must assign the provided variable to one of the following three integers, depending on whether the proposed answer is too low, too high, or correct. \n",
        "\n",
        "1. Assign the variable to 1 if you believe our proposed answer is too high.\n",
        "2. Assign the variable to 2 if you believe our proposed answer is too low.\n",
        "3. Assign the variable to 3 if you believe our proposed answer is correct.\n",
        "\n",
        "\n",
        "You are more than welcome to create more cells across this notebook to use for arithmetic operations \n",
        "\n",
        "<span style='background:yellow'>**Question 3.1.**</span> You roll a 6-sided die 10 times. What is the chance of getting 10 sixes?\n",
        "\n",
        "Our proposed answer: $$\\left(\\frac{1}{6}\\right)^{10}$$\n",
        "\n",
        "Assign `ten_sixes` to either 1, 2, or 3 depending on if you think our answer is too high, too low, or correct. "
      ]
    },
    {
      "cell_type": "code",
      "execution_count": 34,
      "metadata": {
        "id": "OzwmdWXoS6bU",
        "colab": {
          "base_uri": "https://localhost:8080/"
        },
        "outputId": "201ed6f2-b0c1-44e1-c387-9868a10c5e07"
      },
      "outputs": [
        {
          "output_type": "execute_result",
          "data": {
            "text/plain": [
              "3"
            ]
          },
          "metadata": {},
          "execution_count": 34
        }
      ],
      "source": [
        "#Probability of getting 6 for 10 times is '(1/6)^10'\n",
        "answer = (1/6)**10\n",
        "proposed = (1/6)**10\n",
        "if answer == proposed:\n",
        "  ten_sixes =3\n",
        "elif answer < proposed:\n",
        "  ten_sixes = 2\n",
        "else:\n",
        "  ten_sixes =1\n",
        "ten_sixes"
      ]
    },
    {
      "cell_type": "code",
      "execution_count": 35,
      "metadata": {
        "id": "tkOo9Y96S6bV",
        "colab": {
          "base_uri": "https://localhost:8080/"
        },
        "outputId": "f9104108-09cf-427d-e802-fcec5f9c1e9f"
      },
      "outputs": [
        {
          "output_type": "execute_result",
          "data": {
            "text/plain": [
              "True"
            ]
          },
          "metadata": {},
          "execution_count": 35
        }
      ],
      "source": [
        "# TEST\n",
        "ten_sixes == 3"
      ]
    },
    {
      "cell_type": "markdown",
      "metadata": {
        "id": "D2eNWvZLS6bV"
      },
      "source": [
        "<span style='background:yellow'>**Question 3.2.**</span> Take the same problem set-up as before, rolling a fair dice 10 times. What is the chance that every roll is less than or equal to 5?\n",
        "\n",
        "Our proposed answer: $$1 - \\left(\\frac{1}{6}\\right)^{10}$$\n",
        "\n",
        "Assign `five_or_less` to either 1, 2, or 3. "
      ]
    },
    {
      "cell_type": "code",
      "execution_count": 36,
      "metadata": {
        "id": "PNLbONGAS6bV",
        "colab": {
          "base_uri": "https://localhost:8080/"
        },
        "outputId": "5f577dae-8acb-486e-e603-8b5f3c41d0e0"
      },
      "outputs": [
        {
          "output_type": "execute_result",
          "data": {
            "text/plain": [
              "1"
            ]
          },
          "metadata": {},
          "execution_count": 36
        }
      ],
      "source": [
        "#Probability of getting less than or equal to 5 is '(5/6)^10'\n",
        "answer = (5/6)**10\n",
        "proposed = 1-((1/6)**10)\n",
        "if answer == proposed:\n",
        "  five_or_less =3\n",
        "elif answer < proposed:\n",
        "  five_or_less = 2\n",
        "else:\n",
        "  five_or_less =1\n",
        "five_or_less = 1\n",
        "five_or_less"
      ]
    },
    {
      "cell_type": "code",
      "execution_count": 37,
      "metadata": {
        "id": "G9dIP1aFS6bV",
        "colab": {
          "base_uri": "https://localhost:8080/"
        },
        "outputId": "f0c615af-e986-4769-c9ab-daf99e408b41"
      },
      "outputs": [
        {
          "output_type": "execute_result",
          "data": {
            "text/plain": [
              "True"
            ]
          },
          "metadata": {},
          "execution_count": 37
        }
      ],
      "source": [
        "# TEST\n",
        "five_or_less == 1"
      ]
    },
    {
      "cell_type": "markdown",
      "metadata": {
        "id": "lxmSEPINS6bV"
      },
      "source": [
        "<span style='background:yellow'>**Question 3.3.**</span> Assume we are picking a lottery ticket. We must choose three distinct numbers from 1 to 1000 and write them on a ticket. Next, someone picks three numbers one by one from a bowl with numbers from 1 to 1000 each time without putting the previous number back in. We win if our numbers are all called in order. \n",
        "\n",
        "If we decide to play the game and pick our numbers as 12, 140, and 890, what is the chance that we win? \n",
        "\n",
        "Our proposed answer: $$\\left(\\frac{3}{1000}\\right)^3$$\n",
        "\n",
        "Assign `lottery` to either 1, 2, or 3. "
      ]
    },
    {
      "cell_type": "code",
      "execution_count": 38,
      "metadata": {
        "id": "1bE4_QTrS6bV",
        "colab": {
          "base_uri": "https://localhost:8080/"
        },
        "outputId": "38cad340-3188-46b9-89a3-715d6a37a820"
      },
      "outputs": [
        {
          "output_type": "execute_result",
          "data": {
            "text/plain": [
              "1"
            ]
          },
          "metadata": {},
          "execution_count": 38
        }
      ],
      "source": [
        "#probability of 12 is (1/1000)\n",
        "#prbability of 140 is (1/999)\n",
        "#probabilty of 890 is (1/998)\n",
        "#probabilty of all is '(1/1000*999*998)'\n",
        "answer = (1/1000*999*998)\n",
        "proposed = (3/1000)**3\n",
        "if answer == proposed:\n",
        "  lottery =3\n",
        "elif answer < proposed:\n",
        "  lottery  = 2\n",
        "else:\n",
        "  lottery  =1\n",
        "lottery = 1\n",
        "lottery\n"
      ]
    },
    {
      "cell_type": "code",
      "execution_count": 39,
      "metadata": {
        "id": "ryMbFNGYS6bV",
        "colab": {
          "base_uri": "https://localhost:8080/"
        },
        "outputId": "4cf9b97b-5122-42f9-9a02-91ce2b60c9b7"
      },
      "outputs": [
        {
          "output_type": "execute_result",
          "data": {
            "text/plain": [
              "True"
            ]
          },
          "metadata": {},
          "execution_count": 39
        }
      ],
      "source": [
        "# TEST\n",
        "lottery == 1"
      ]
    },
    {
      "cell_type": "markdown",
      "metadata": {
        "id": "bIpGTMncS6bV"
      },
      "source": [
        "<span style='background:yellow'>**Question 3.4.**</span> Assume we have two lists, list A and list B. List A contains the numbers [20,10,30], while list B contains the numbers [10,30,20,40,30]. We choose one number from list A randomly and one number from list B randomly. What is the chance that the number we drew from list A is larger than or equal to the number we drew from list B?\n",
        "\n",
        "Our proposed solution: $$1/5$$\n",
        "\n",
        "Assign `list_chances` to either 1, 2, or 3. \n",
        "\n",
        "*Hint: Consider the different possible ways that the items in List A can be greater than or equal to items in List B. Try working out your thoughts with a pencil and paper, what do you think the correct solutions will be close to?*"
      ]
    },
    {
      "cell_type": "code",
      "execution_count": 40,
      "metadata": {
        "id": "QoM99FvdS6bV",
        "colab": {
          "base_uri": "https://localhost:8080/"
        },
        "outputId": "7fde1c15-bb2e-47e5-9652-bf3b88b2660e"
      },
      "outputs": [
        {
          "output_type": "execute_result",
          "data": {
            "text/plain": [
              "2"
            ]
          },
          "metadata": {},
          "execution_count": 40
        }
      ],
      "source": [
        "#Probalility of drawing 20 from list A  and 10 from list List B and Probability of drawing  30 from list A  and 10 or 20 from B\n",
        "#=(1/3)*(1/4)+(1/3)*(2/4)=3/12=1/4\n",
        "answer = (1/4)\n",
        "proposed = (1/5)\n",
        "if answer == proposed:\n",
        "  lottery =3\n",
        "elif answer < proposed:\n",
        "  lottery  = 2\n",
        "else:\n",
        "  lottery  =1\n",
        "list_chances = 2\n",
        "list_chances"
      ]
    },
    {
      "cell_type": "code",
      "execution_count": 41,
      "metadata": {
        "id": "fFk0VBYZS6bV",
        "colab": {
          "base_uri": "https://localhost:8080/"
        },
        "outputId": "fea43eba-f5d4-4380-cd9b-80180cb028ce"
      },
      "outputs": [
        {
          "output_type": "execute_result",
          "data": {
            "text/plain": [
              "True"
            ]
          },
          "metadata": {},
          "execution_count": 41
        }
      ],
      "source": [
        "# TEST\n",
        "list_chances == 2"
      ]
    },
    {
      "cell_type": "markdown",
      "metadata": {
        "id": "3kNTUDFaS6bV"
      },
      "source": [
        "Great job! You're finished with lab 4! Be sure to...\n",
        "\n",
        "* **run all the tests**,\n",
        "* **print the notebook as a PDF**,\n",
        "* and **submit both the notebook and the PDF to Canvas**."
      ]
    }
  ],
  "metadata": {
    "anaconda-cloud": {},
    "celltoolbar": "Edit Metadata",
    "kernelspec": {
      "display_name": "Python 3",
      "language": "python",
      "name": "python3"
    },
    "language_info": {
      "codemirror_mode": {
        "name": "ipython",
        "version": 3
      },
      "file_extension": ".py",
      "mimetype": "text/x-python",
      "name": "python",
      "nbconvert_exporter": "python",
      "pygments_lexer": "ipython3",
      "version": "3.7.11"
    },
    "colab": {
      "provenance": [],
      "collapsed_sections": []
    }
  },
  "nbformat": 4,
  "nbformat_minor": 0
}